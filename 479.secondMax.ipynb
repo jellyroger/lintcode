{
 "cells": [
  {
   "cell_type": "raw",
   "metadata": {},
   "source": [
    "# Python program to\n",
    "# find second largest \n",
    "# element in an array\n",
    " \n",
    " \n",
    "# Function to print the\n",
    "# second largest elements "
   ]
  },
  {
   "cell_type": "code",
   "execution_count": 6,
   "metadata": {
    "collapsed": true
   },
   "outputs": [],
   "source": [
    "class Solution:\n",
    "    \"\"\"\n",
    "    @param nums: An integer array\n",
    "    @return: The second max number in the array.\n",
    "    \"\"\"\n",
    "    def secondMax(self, nums):\n",
    "        # write your code here\n",
    "        \n",
    "        return sorted(num)[len(nums) - 2]"
   ]
  },
  {
   "cell_type": "code",
   "execution_count": null,
   "metadata": {},
   "outputs": [],
   "source": []
  },
  {
   "cell_type": "code",
   "execution_count": null,
   "metadata": {},
   "outputs": [],
   "source": []
  },
  {
   "cell_type": "code",
   "execution_count": null,
   "metadata": {
    "collapsed": true
   },
   "outputs": [],
   "source": []
  }
 ],
 "metadata": {
  "kernelspec": {
   "display_name": "Python 3",
   "language": "python",
   "name": "python3"
  },
  "language_info": {
   "codemirror_mode": {
    "name": "ipython",
    "version": 3
   },
   "file_extension": ".py",
   "mimetype": "text/x-python",
   "name": "python",
   "nbconvert_exporter": "python",
   "pygments_lexer": "ipython3",
   "version": "3.6.6"
  }
 },
 "nbformat": 4,
 "nbformat_minor": 2
}
